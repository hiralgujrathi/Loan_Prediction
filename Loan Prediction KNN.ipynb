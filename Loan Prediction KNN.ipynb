{
 "cells": [
  {
   "cell_type": "code",
   "execution_count": 1,
   "id": "3a53a8aa",
   "metadata": {},
   "outputs": [],
   "source": [
    "import numpy as np\n",
    "import pandas as pd"
   ]
  },
  {
   "cell_type": "code",
   "execution_count": 2,
   "id": "16d3e9dd",
   "metadata": {},
   "outputs": [],
   "source": [
    "Test=pd.read_csv(\"Test_loan.csv\")\n",
    "Train=pd.read_csv(\"Train_loan.csv\")"
   ]
  },
  {
   "cell_type": "code",
   "execution_count": 3,
   "id": "2d23c5e9",
   "metadata": {},
   "outputs": [
    {
     "data": {
      "text/plain": [
       "True"
      ]
     },
     "execution_count": 3,
     "metadata": {},
     "output_type": "execute_result"
    }
   ],
   "source": [
    "Train.isnull().values.any()"
   ]
  },
  {
   "cell_type": "code",
   "execution_count": 4,
   "id": "56d74dd1",
   "metadata": {},
   "outputs": [
    {
     "data": {
      "text/plain": [
       "Loan_ID              False\n",
       "Gender                True\n",
       "Married               True\n",
       "Dependents            True\n",
       "Education            False\n",
       "Self_Employed         True\n",
       "ApplicantIncome      False\n",
       "CoapplicantIncome    False\n",
       "LoanAmount            True\n",
       "Loan_Amount_Term      True\n",
       "Credit_History        True\n",
       "Property_Area        False\n",
       "Loan_Status          False\n",
       "dtype: bool"
      ]
     },
     "execution_count": 4,
     "metadata": {},
     "output_type": "execute_result"
    }
   ],
   "source": [
    "Train.isnull().any()"
   ]
  },
  {
   "cell_type": "code",
   "execution_count": 5,
   "id": "d07a2d18",
   "metadata": {},
   "outputs": [
    {
     "name": "stdout",
     "output_type": "stream",
     "text": [
      "13\n",
      "3\n",
      "15\n",
      "32\n",
      "22\n",
      "14\n",
      "50\n"
     ]
    }
   ],
   "source": [
    "print(Train['Gender'].isnull().sum())\n",
    "print(Train['Married'].isnull().sum())\n",
    "print(Train['Dependents'].isnull().sum())\n",
    "print(Train['Self_Employed'].isnull().sum())\n",
    "print(Train['LoanAmount'].isnull().sum())\n",
    "print(Train['Loan_Amount_Term'].isnull().sum())\n",
    "print(Train['Credit_History'].isnull().sum())"
   ]
  },
  {
   "cell_type": "code",
   "execution_count": 6,
   "id": "b20cf0ae",
   "metadata": {},
   "outputs": [],
   "source": [
    "Train['Dependents']=Train['Dependents'].replace('3+','4')"
   ]
  },
  {
   "cell_type": "code",
   "execution_count": 7,
   "id": "e7e4df51",
   "metadata": {},
   "outputs": [],
   "source": [
    "Train['Gender'] = Train['Gender'].fillna(Train['Gender'].mode()[0])\n",
    "Train['Married'] = Train['Married'].fillna(Train['Married'].mode()[0])\n",
    "Train['Dependents'] = Train['Dependents'].fillna(Train['Dependents'].mode()[0])\n",
    "Train['Self_Employed'] = Train['Self_Employed'].fillna(Train['Self_Employed'].mode()[0])\n",
    "Train['LoanAmount'] = Train['LoanAmount'].fillna(Train['LoanAmount'].mean())\n",
    "Train['Loan_Amount_Term'] = Train['Loan_Amount_Term'].fillna(Train['Loan_Amount_Term'].mean())\n",
    "Train['Credit_History'] = Train['Credit_History'].fillna(Train['Credit_History'].mode()[0])"
   ]
  },
  {
   "cell_type": "code",
   "execution_count": 8,
   "id": "292188b2",
   "metadata": {},
   "outputs": [],
   "source": [
    "from sklearn import preprocessing"
   ]
  },
  {
   "cell_type": "code",
   "execution_count": 9,
   "id": "b3f44851",
   "metadata": {},
   "outputs": [],
   "source": [
    "label_encoder=preprocessing.LabelEncoder()\n",
    "Train['Gender']= label_encoder.fit_transform(Train['Gender'])\n",
    "Train['Married']= label_encoder.fit_transform(Train['Married'])\n",
    "Train['Education']= label_encoder.fit_transform(Train['Education'])\n",
    "Train['Self_Employed']= label_encoder.fit_transform(Train['Self_Employed'])\n",
    "Train['Property_Area']= label_encoder.fit_transform(Train['Property_Area'])\n",
    "Train['Loan_Status']= label_encoder.fit_transform(Train['Loan_Status'])"
   ]
  },
  {
   "cell_type": "code",
   "execution_count": 10,
   "id": "7064d3eb",
   "metadata": {},
   "outputs": [],
   "source": [
    "Test['Dependents']=Test['Dependents'].replace('3+','4')"
   ]
  },
  {
   "cell_type": "code",
   "execution_count": 11,
   "id": "f4d4a7d3",
   "metadata": {},
   "outputs": [],
   "source": [
    "Test['Gender'] = Test['Gender'].fillna(Test['Gender'].mode()[0])\n",
    "Test['Married'] = Test['Married'].fillna(Test['Married'].mode()[0])\n",
    "Test['Dependents'] = Test['Dependents'].fillna(Test['Dependents'].mode()[0])\n",
    "Test['Self_Employed'] = Test['Self_Employed'].fillna(Test['Self_Employed'].mode()[0])\n",
    "Test['LoanAmount'] = Test['LoanAmount'].fillna(Test['LoanAmount'].mean())\n",
    "Test['Loan_Amount_Term'] = Test['Loan_Amount_Term'].fillna(Test['Loan_Amount_Term'].mean())\n",
    "Test['Credit_History'] = Test['Credit_History'].fillna(Test['Credit_History'].mode()[0])"
   ]
  },
  {
   "cell_type": "code",
   "execution_count": 12,
   "id": "a8bd0360",
   "metadata": {},
   "outputs": [],
   "source": [
    "#fit transform=Fit label encoder and return encoded labels.\n",
    "label_encoder = preprocessing.LabelEncoder()\n",
    "\n",
    "# Encode labels in column 'species'.\n",
    "Test['Gender']= label_encoder.fit_transform(Test['Gender'])\n",
    "Test['Married']= label_encoder.fit_transform(Test['Married'])\n",
    "Test['Education']= label_encoder.fit_transform(Test['Education'])\n",
    "Test['Self_Employed']= label_encoder.fit_transform(Test['Self_Employed'])\n",
    "Test['Property_Area']= label_encoder.fit_transform(Test['Property_Area'])"
   ]
  },
  {
   "cell_type": "code",
   "execution_count": 13,
   "id": "d4e204b0",
   "metadata": {},
   "outputs": [],
   "source": [
    "test=Test.iloc[:,1:13]"
   ]
  },
  {
   "cell_type": "code",
   "execution_count": 14,
   "id": "848f0c18",
   "metadata": {},
   "outputs": [],
   "source": [
    "X_train=Train.iloc[:,1:12]"
   ]
  },
  {
   "cell_type": "code",
   "execution_count": 15,
   "id": "1fc720bb",
   "metadata": {},
   "outputs": [
    {
     "data": {
      "text/plain": [
       "0      1\n",
       "1      0\n",
       "2      1\n",
       "3      1\n",
       "4      1\n",
       "      ..\n",
       "609    1\n",
       "610    1\n",
       "611    1\n",
       "612    1\n",
       "613    0\n",
       "Name: Loan_Status, Length: 614, dtype: int32"
      ]
     },
     "execution_count": 15,
     "metadata": {},
     "output_type": "execute_result"
    }
   ],
   "source": [
    "y_train=Train.Loan_Status\n",
    "y_train"
   ]
  },
  {
   "cell_type": "code",
   "execution_count": 22,
   "id": "da03450f",
   "metadata": {},
   "outputs": [],
   "source": [
    "from sklearn.neighbors import KNeighborsClassifier"
   ]
  },
  {
   "cell_type": "code",
   "execution_count": 23,
   "id": "859707d1",
   "metadata": {},
   "outputs": [],
   "source": [
    "knn = KNeighborsClassifier(n_neighbors=3)\n",
    "knn.fit( X_train , y_train )\n",
    "y_pred = knn.predict(test)"
   ]
  },
  {
   "cell_type": "code",
   "execution_count": 24,
   "id": "b16c2492",
   "metadata": {},
   "outputs": [
    {
     "data": {
      "text/plain": [
       "array([1, 1, 0, 1, 1, 1, 1, 1, 1, 1, 1, 1, 1, 1, 1, 1, 1, 1, 1, 0, 1, 0,\n",
       "       1, 1, 1, 0, 1, 1, 1, 1, 1, 1, 1, 1, 1, 1, 1, 1, 1, 1, 1, 1, 1, 0,\n",
       "       1, 1, 1, 0, 0, 1, 1, 1, 1, 1, 1, 0, 1, 1, 1, 1, 1, 1, 1, 1, 1, 1,\n",
       "       0, 0, 1, 1, 1, 1, 1, 1, 1, 0, 1, 0, 0, 1, 1, 1, 1, 1, 1, 1, 1, 1,\n",
       "       1, 1, 1, 1, 0, 0, 1, 0, 0, 1, 1, 1, 1, 0, 1, 0, 1, 0, 1, 1, 1, 1,\n",
       "       0, 1, 0, 0, 0, 1, 0, 0, 0, 1, 1, 1, 1, 1, 1, 1, 0, 1, 1, 1, 1, 0,\n",
       "       1, 1, 1, 0, 1, 0, 1, 1, 0, 1, 1, 1, 1, 1, 1, 1, 1, 1, 1, 1, 0, 1,\n",
       "       1, 1, 0, 1, 0, 1, 0, 1, 1, 0, 1, 0, 0, 1, 0, 0, 1, 1, 1, 1, 0, 1,\n",
       "       1, 1, 1, 1, 1, 1, 1, 0, 1, 1, 1, 1, 1, 1, 1, 1, 1, 1, 0, 1, 0, 1,\n",
       "       1, 1, 1, 1, 1, 1, 1, 1, 1, 1, 0, 0, 0, 0, 1, 1, 0, 1, 1, 1, 1, 1,\n",
       "       1, 0, 1, 1, 1, 1, 1, 0, 1, 1, 1, 1, 0, 1, 1, 1, 1, 1, 1, 1, 1, 1,\n",
       "       1, 1, 0, 1, 0, 0, 1, 1, 1, 0, 1, 1, 1, 1, 1, 1, 1, 1, 1, 1, 1, 1,\n",
       "       1, 1, 1, 1, 1, 0, 1, 0, 0, 1, 1, 1, 0, 1, 1, 0, 1, 1, 1, 1, 1, 1,\n",
       "       1, 1, 1, 1, 1, 1, 1, 1, 1, 0, 0, 1, 1, 1, 1, 1, 1, 0, 1, 1, 1, 1,\n",
       "       1, 1, 1, 1, 1, 0, 1, 1, 1, 0, 0, 1, 0, 1, 0, 0, 1, 1, 1, 1, 0, 1,\n",
       "       1, 1, 0, 1, 0, 0, 1, 1, 1, 0, 1, 0, 1, 1, 1, 1, 1, 1, 0, 1, 1, 0,\n",
       "       1, 1, 1, 1, 1, 1, 1, 1, 1, 1, 1, 1, 1, 0, 1])"
      ]
     },
     "execution_count": 24,
     "metadata": {},
     "output_type": "execute_result"
    }
   ],
   "source": [
    "y_pred"
   ]
  },
  {
   "cell_type": "code",
   "execution_count": 25,
   "id": "3d096955",
   "metadata": {},
   "outputs": [],
   "source": [
    "test=pd.read_csv(\"Test_loan.csv\")\n",
    "submission=test.iloc[:,0:1]"
   ]
  },
  {
   "cell_type": "code",
   "execution_count": 26,
   "id": "4ac7a7ab",
   "metadata": {},
   "outputs": [],
   "source": [
    "submission['Loan_Status'] = y_pred\n",
    "submission['Loan_Status'] = submission['Loan_Status'].replace({0: 'N', 1: 'Y'})"
   ]
  },
  {
   "cell_type": "code",
   "execution_count": 27,
   "id": "099b932d",
   "metadata": {},
   "outputs": [],
   "source": [
    "submission.to_csv('submission_3.csv',index=False)"
   ]
  },
  {
   "cell_type": "code",
   "execution_count": null,
   "id": "d9fc8a49",
   "metadata": {},
   "outputs": [],
   "source": []
  }
 ],
 "metadata": {
  "kernelspec": {
   "display_name": "Python 3 (ipykernel)",
   "language": "python",
   "name": "python3"
  },
  "language_info": {
   "codemirror_mode": {
    "name": "ipython",
    "version": 3
   },
   "file_extension": ".py",
   "mimetype": "text/x-python",
   "name": "python",
   "nbconvert_exporter": "python",
   "pygments_lexer": "ipython3",
   "version": "3.11.3"
  }
 },
 "nbformat": 4,
 "nbformat_minor": 5
}
